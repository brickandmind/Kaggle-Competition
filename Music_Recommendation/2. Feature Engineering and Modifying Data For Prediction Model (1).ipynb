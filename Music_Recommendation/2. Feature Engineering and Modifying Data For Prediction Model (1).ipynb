{
 "cells": [
  {
   "cell_type": "markdown",
   "metadata": {},
   "source": [
    "# 2. Feature Engineering and Modifying Data For Prediction Model"
   ]
  },
  {
   "cell_type": "markdown",
   "metadata": {},
   "source": [
    "저는 해당 노래를 다시 들을지에 대한 확율이 그 고객의 취향과 개인 문화권, 노래의 대중성에 달렸다고 생각을 하였습니다.\n",
    "\n",
    "고객의 취향\n",
    "- train 데이터에서 고객이 'suger'이라는 노래를 들 었다고 할 떄, 그 노래에 해당하는 작곡가, 작사가, 장르, 혹은 가수가 같은 노래를 몇 번이나 들었는지, 그리고 각 작곡가, 작사가, 장르, 가수에 따른 평균 target 값이 몇 인지를 구하여 고객의 데이터에 추가 하였습니다\n",
    "\n",
    "고객의 문화권\n",
    "- 사는 도시, 사용 언어, 서비스 접속 도구, 성별을 카테고리 변수로 만들어 더했습니다\n",
    "\n",
    "대중성\n",
    "- 해당 노래를 사람들이 몇 번이나 들었는지, 각각의 작곡가, 작사가, 장르, 그리고 가수들이 포함되는 노래가 데이터 세트에 몇 개나 존재하는지를 카운트 하여 데이터 세트에 더했습니다\n"
   ]
  },
  {
   "cell_type": "code",
   "execution_count": 1,
   "metadata": {
    "collapsed": true
   },
   "outputs": [],
   "source": [
    "import pandas as pd\n",
    "import numpy as np"
   ]
  },
  {
   "cell_type": "markdown",
   "metadata": {},
   "source": [
    "### Compare Train Data Set and Test Data Set"
   ]
  },
  {
   "cell_type": "code",
   "execution_count": null,
   "metadata": {
    "collapsed": true
   },
   "outputs": [],
   "source": [
    "test = pd.read_csv('test.csv', encoding = 'utf-8')\n",
    "train = pd.read_csv('train.csv', encoding = 'utf-8')"
   ]
  },
  {
   "cell_type": "code",
   "execution_count": null,
   "metadata": {
    "collapsed": true
   },
   "outputs": [],
   "source": [
    "songs = pd.read_csv('songs.csv', encoding = 'utf-8')\n",
    "members = pd.read_csv('members.csv', encoding = 'utf-8')"
   ]
  },
  {
   "cell_type": "code",
   "execution_count": null,
   "metadata": {
    "collapsed": true
   },
   "outputs": [],
   "source": [
    "data_sum = [test, train]\n",
    "for df in data_sum:\n",
    "    df1 = pd.merge(df, songs, on='song_id')\n",
    "    df2 = pd.merge(df1, members, on='msno')\n",
    "#    del df2['language']\n",
    "    if len(df2) > 7000000:\n",
    "        train = df2\n",
    "    else:\n",
    "        test = df2\n"
   ]
  },
  {
   "cell_type": "code",
   "execution_count": null,
   "metadata": {
    "collapsed": true
   },
   "outputs": [],
   "source": [
    "def compare_test_train(col):\n",
    "    set_train = set(train[col])\n",
    "    set_test = set(test[col])\n",
    "    i = len(set_test - set_train -set([None]))\n",
    "    print('number of test set  %s, not in train set' % col, ':', i)\n",
    "    \n",
    "def compare_train_test(col):\n",
    "    set_train = set(train[col])\n",
    "    set_test = set(test[col])\n",
    "    i = len(set_train - set_test -set([None]))\n",
    "    print('number of train set  %s, not in test set' % col, ':', i)"
   ]
  },
  {
   "cell_type": "code",
   "execution_count": null,
   "metadata": {
    "collapsed": true
   },
   "outputs": [],
   "source": [
    "compare_train_test('language')\n",
    "compare_test_train('language')"
   ]
  },
  {
   "cell_type": "code",
   "execution_count": null,
   "metadata": {
    "collapsed": true
   },
   "outputs": [],
   "source": [
    "lis = ['source_system_tab', 'source_screen_name', 'source_type', 'genre_ids', 'composer', 'lyricist', 'gender', 'language']\n",
    "lis1 = ['no_tab', 'no_name', 'no_type', 'no_genre', 'no_composer', 'no_lyricist', 'no_gender', 'no_language']\n",
    "for x, y in zip(lis, lis1):\n",
    "    train[x] = train[x].fillna(y)\n",
    "    test[x] = test[x].fillna(y)"
   ]
  },
  {
   "cell_type": "code",
   "execution_count": null,
   "metadata": {
    "collapsed": true
   },
   "outputs": [],
   "source": [
    "category_var = ['source_system_tab', 'source_screen_name', 'source_type', 'city', 'gender', 'registered_via', 'language']\n",
    "\n",
    "for var in category_var:\n",
    "    compare_train_test(var)\n",
    "for var in category_var:\n",
    "    compare_test_train(var)\n",
    "    "
   ]
  },
  {
   "cell_type": "code",
   "execution_count": null,
   "metadata": {
    "collapsed": true
   },
   "outputs": [],
   "source": [
    "SCN = set(test['source_screen_name']) - set(train['source_screen_name'])\n",
    "RV = set(test['registered_via']) - set(train['registered_via'])\n",
    "print('Source screen name not in train set : ' , SCN)\n",
    "print('registered_via name not in train set : ' ,RV)"
   ]
  },
  {
   "cell_type": "code",
   "execution_count": null,
   "metadata": {
    "collapsed": true
   },
   "outputs": [],
   "source": [
    "test.groupby(['registered_via']).size()"
   ]
  },
  {
   "cell_type": "code",
   "execution_count": null,
   "metadata": {
    "collapsed": true
   },
   "outputs": [],
   "source": [
    "test['registered_via'] = test['registered_via'].replace(16, 3)"
   ]
  },
  {
   "cell_type": "code",
   "execution_count": null,
   "metadata": {
    "collapsed": true
   },
   "outputs": [],
   "source": [
    "test.groupby(['source_screen_name']).size()"
   ]
  },
  {
   "cell_type": "code",
   "execution_count": null,
   "metadata": {
    "collapsed": true
   },
   "outputs": [],
   "source": [
    "test['source_screen_name'] = test['source_screen_name'].replace('People global', 'Local playlist more')\n",
    "test['source_screen_name'] = test['source_screen_name'].replace('People local', 'Local playlist more')"
   ]
  },
  {
   "cell_type": "code",
   "execution_count": null,
   "metadata": {
    "collapsed": true
   },
   "outputs": [],
   "source": [
    "test.groupby(['source_screen_name']).size()"
   ]
  },
  {
   "cell_type": "markdown",
   "metadata": {},
   "source": [
    "### Feature Engineering"
   ]
  },
  {
   "cell_type": "code",
   "execution_count": null,
   "metadata": {
    "collapsed": true
   },
   "outputs": [],
   "source": [
    "def msno_count(df):\n",
    "    df1 = df.groupby('msno').size()\n",
    "    df1= df1.reset_index()\n",
    "    df1.columns = ['msno', '#listened']\n",
    "    return df1\n",
    "\n",
    "# song_id, song_length\n",
    "def mean_count_var1(df, var):\n",
    "    df1 = df[[var, 'msno', 'target']].groupby([var]).agg(['mean','count'])\n",
    "    df1 = df1.reset_index()\n",
    "    df1.columns = [var,'mean', 'count']\n",
    "    return df1\n",
    "\n",
    "def mean_count_var2(df, var):\n",
    "    df1 = df[[var, 'msno']].groupby([var]).agg(['count'])\n",
    "    df1 = df1.reset_index()\n",
    "    df1.columns = [var,'count']\n",
    "    return df1\n",
    "\n",
    "# genre_ids, lyricist, composer, artist_name\n",
    "def player_preference(df, var, preference_by):\n",
    "    df1 = df[['msno', var]].groupby(['msno', var]).size()\n",
    "    df1 = df1.reset_index()\n",
    "    df1.columns = ['msno', var, preference_by ]\n",
    "    return df1\n",
    "    #df1 = pd.merge(train, df, on = ['msno', var], how='left')\n",
    "\n",
    "#몇명의 작곡가가 만들었나\n",
    "#genre_ids, composer\n",
    "def count_vals(x):\n",
    "    if type(x) != str:\n",
    "        return 1\n",
    "    else:\n",
    "        return 1 + x.count('|')\n"
   ]
  },
  {
   "cell_type": "code",
   "execution_count": null,
   "metadata": {
    "collapsed": true
   },
   "outputs": [],
   "source": [
    "data_sum = [test, train]"
   ]
  },
  {
   "cell_type": "code",
   "execution_count": null,
   "metadata": {
    "collapsed": true
   },
   "outputs": [],
   "source": [
    "train['number_of_genre'] =  train['genre_ids'].apply(count_vals)\n",
    "train['number_of_composer'] =  train['composer'].apply(count_vals)\n",
    "\n",
    "test['number_of_genre'] =  test['genre_ids'].apply(count_vals)\n",
    "test['number_of_composer'] =  test['composer'].apply(count_vals)"
   ]
  },
  {
   "cell_type": "code",
   "execution_count": null,
   "metadata": {
    "collapsed": true
   },
   "outputs": [],
   "source": [
    "test = pd.merge(test,msno_count(test), on = 'msno' )\n",
    "train = pd.merge(train, msno_count(train), on = 'msno' )"
   ]
  },
  {
   "cell_type": "code",
   "execution_count": null,
   "metadata": {
    "collapsed": true
   },
   "outputs": [],
   "source": [
    "train = train[train['number_of_composer'] < 30]\n",
    "train = train[train['bd'] > -1]\n",
    "train = train[train['bd'] < 70]"
   ]
  },
  {
   "cell_type": "code",
   "execution_count": null,
   "metadata": {
    "collapsed": true
   },
   "outputs": [],
   "source": [
    "lis = ['song_id', 'genre_ids', 'artist_name', 'composer', 'lyricist', 'language', 'city',]\n",
    "for x in lis:\n",
    "    train = pd.merge(train, mean_count_var1(train, x), on = x)\n",
    "    test = pd.merge(test, mean_count_var2(test, x), on = x)\n",
    "lis1 = ['song_id', 'genre_ids', 'artist_name', 'composer', 'lyricist']\n",
    "lis2 = ['by_song', 'by_genre', 'by_artist', 'by_composer', 'by_lyricist']\n",
    "for col, name in zip(lis1, lis2):\n",
    "    train = pd.merge(train,  player_preference(train, col, name), on = ['msno', col], how = 'left')\n",
    "    test = pd.merge(test,  player_preference(test, col, name), on = ['msno', col], how = 'left')"
   ]
  },
  {
   "cell_type": "code",
   "execution_count": null,
   "metadata": {
    "collapsed": true
   },
   "outputs": [],
   "source": [
    "train.to_csv('train1', encoding = 'utf8', index = False)\n",
    "test.to_csv('test1', encoding = 'utf8', index = False )"
   ]
  },
  {
   "cell_type": "code",
   "execution_count": 43,
   "metadata": {},
   "outputs": [
    {
     "name": "stderr",
     "output_type": "stream",
     "text": [
      "C:\\ProgramData\\Anaconda3\\lib\\site-packages\\IPython\\core\\interactiveshell.py:2698: DtypeWarning: Columns (7) have mixed types. Specify dtype option on import or set low_memory=False.\n",
      "  interactivity=interactivity, compiler=compiler, result=result)\n"
     ]
    }
   ],
   "source": [
    "train = pd.read_csv('train1', dtype = {'language' : 'category'})\n",
    "test = pd.read_csv('test1', dtype = {'language' : 'category'})"
   ]
  },
  {
   "cell_type": "code",
   "execution_count": 45,
   "metadata": {
    "collapsed": true
   },
   "outputs": [],
   "source": [
    "lis = ['expiration_date', 'registration_init_time']\n",
    "for x in lis:\n",
    "    del train[x]\n",
    "    del test[x]"
   ]
  },
  {
   "cell_type": "code",
   "execution_count": 46,
   "metadata": {},
   "outputs": [
    {
     "data": {
      "text/plain": [
       "Index(['msno', 'song_id', 'source_system_tab', 'source_screen_name',\n",
       "       'source_type', 'target', 'song_length', 'genre_ids', 'artist_name',\n",
       "       'composer', 'lyricist', 'language', 'city', 'bd', 'gender',\n",
       "       'registered_via', 'number_of_genre', 'number_of_composer', '#listened',\n",
       "       'mean_x', 'count_x', 'mean_y', 'count_y', 'mean_x.1', 'count_x.1',\n",
       "       'mean_y.1', 'count_y.1', 'mean_x.2', 'count_x.2', 'mean_y.2',\n",
       "       'count_y.2', 'mean', 'count', 'by_song', 'by_genre', 'by_artist',\n",
       "       'by_composer', 'by_lyricist'],\n",
       "      dtype='object')"
      ]
     },
     "execution_count": 46,
     "metadata": {},
     "output_type": "execute_result"
    }
   ],
   "source": [
    "train.columns"
   ]
  },
  {
   "cell_type": "code",
   "execution_count": 47,
   "metadata": {
    "collapsed": true
   },
   "outputs": [],
   "source": [
    "train.columns =['msno', 'song_id', 'source_system_tab', 'source_screen_name',\n",
    "       'source_type', 'target', 'song_length', 'genre_ids', 'artist_name',\n",
    "       'composer', 'lyricist', 'language', 'city', 'bd', 'gender',\n",
    "       'registered_via', 'number_of_genre', 'number_of_composer', '#listened',\n",
    "       'mean_1', 'count_1', 'mean_2', 'count_2', 'mean_3', 'count_3', 'mean_4',\n",
    "       'count_4', 'mean_5', 'count_5', 'mean_6', 'count_6', 'mean_7', 'count_7',\n",
    "       'by_song', 'by_genre', 'by_artist', 'by_composer', 'by_lyricist']"
   ]
  },
  {
   "cell_type": "code",
   "execution_count": 49,
   "metadata": {
    "collapsed": true
   },
   "outputs": [],
   "source": [
    "test.columns = ['id', 'msno', 'song_id', 'source_system_tab', 'source_screen_name',\n",
    "       'source_type', 'song_length', 'genre_ids', 'artist_name', 'composer',\n",
    "       'lyricist', 'language', 'city', 'bd', 'gender', 'registered_via',\n",
    "       'number_of_genre', 'number_of_composer', '#listened', 'count_1',\n",
    "       'count_2', 'count_3', 'count_4', 'count_5', 'count_6', 'count_7',\n",
    "       'by_song', 'by_genre', 'by_artist', 'by_composer', 'by_lyricist']"
   ]
  },
  {
   "cell_type": "code",
   "execution_count": 50,
   "metadata": {
    "collapsed": true
   },
   "outputs": [],
   "source": [
    "lis = ['song_id', 'genre_ids', 'artist_name', 'composer', 'lyricist', 'language', 'city']\n",
    "lis2 = ['mean_1','mean_2','mean_3','mean_4','mean_5','mean_6','mean_7',]\n",
    "\n",
    "for col, mean_name in zip(lis, lis2):\n",
    "    df = train[[col, mean_name]].groupby(col).mean()\n",
    "    df = df.reset_index()\n",
    "    df.columns = [col, mean_name]\n",
    "    test = pd.merge(test, df, on = col)"
   ]
  },
  {
   "cell_type": "code",
   "execution_count": 52,
   "metadata": {
    "collapsed": true
   },
   "outputs": [],
   "source": [
    "test=test[['msno', 'song_id', 'source_system_tab', 'source_screen_name',\n",
    "       'source_type', 'song_length', 'genre_ids', 'artist_name',\n",
    "       'composer', 'lyricist', 'language', 'city', 'bd', 'gender',\n",
    "       'registered_via', 'number_of_genre', 'number_of_composer', '#listened',\n",
    "       'mean_1', 'count_1', 'mean_2', 'count_2', 'mean_3', 'count_3', 'mean_4',\n",
    "       'count_4', 'mean_5', 'count_5', 'mean_6', 'count_6', 'mean_7', 'count_7',\n",
    "       'by_song', 'by_genre', 'by_artist', 'by_composer', 'by_lyricist']]"
   ]
  },
  {
   "cell_type": "code",
   "execution_count": 53,
   "metadata": {
    "collapsed": true
   },
   "outputs": [],
   "source": [
    "def to_cat(df):\n",
    "    source_system_tab = pd.get_dummies(df['source_system_tab'], drop_first = True)\n",
    "    source_screen_name = pd.get_dummies(df['source_screen_name'], drop_first = True)\n",
    "    source_type = pd.get_dummies(df['source_type'], drop_first = True)\n",
    "    city = pd.get_dummies(df['city'], drop_first = True)\n",
    "    gender = pd.get_dummies(df['gender'], drop_first = True)\n",
    "    registered_via = pd.get_dummies(df['registered_via'], drop_first = True)\n",
    "    language = pd.get_dummies(df['language'], drop_first = True)\n",
    "\n",
    "    frame = [source_system_tab , source_screen_name, source_type, city, gender, registered_via, language]\n",
    "    df1 = pd.concat(frame, axis = 1)\n",
    "    return df1"
   ]
  },
  {
   "cell_type": "code",
   "execution_count": 54,
   "metadata": {
    "collapsed": true
   },
   "outputs": [],
   "source": [
    "test_cat = to_cat(test)\n",
    "train_cat = to_cat(train)"
   ]
  },
  {
   "cell_type": "code",
   "execution_count": null,
   "metadata": {
    "collapsed": true
   },
   "outputs": [],
   "source": [
    "train.columns"
   ]
  },
  {
   "cell_type": "code",
   "execution_count": 55,
   "metadata": {
    "collapsed": true
   },
   "outputs": [],
   "source": [
    "test = test[['song_length', 'bd', 'number_of_genre', 'number_of_composer', '#listened',\n",
    "       'mean_1', 'count_1', 'mean_2', 'count_2', 'mean_3', 'count_3', 'mean_4',\n",
    "       'count_4', 'mean_5', 'count_5', 'mean_6', 'count_6', 'mean_7', 'count_7',\n",
    "       'by_song', 'by_genre', 'by_artist', 'by_composer', 'by_lyricist']]"
   ]
  },
  {
   "cell_type": "code",
   "execution_count": 56,
   "metadata": {
    "collapsed": true
   },
   "outputs": [],
   "source": [
    "train = train[['target', 'song_length', 'bd', 'number_of_genre', 'number_of_composer', '#listened',\n",
    "       'mean_1', 'count_1', 'mean_2', 'count_2', 'mean_3', 'count_3', 'mean_4',\n",
    "       'count_4', 'mean_5', 'count_5', 'mean_6', 'count_6', 'mean_7', 'count_7',\n",
    "       'by_song', 'by_genre', 'by_artist', 'by_composer', 'by_lyricist']]"
   ]
  },
  {
   "cell_type": "code",
   "execution_count": 57,
   "metadata": {
    "collapsed": true
   },
   "outputs": [],
   "source": [
    "test = pd.concat([test, test_cat], axis = 1)\n",
    "train = pd.concat([train, train_cat], axis = 1)"
   ]
  },
  {
   "cell_type": "code",
   "execution_count": 58,
   "metadata": {
    "scrolled": true
   },
   "outputs": [
    {
     "name": "stdout",
     "output_type": "stream",
     "text": [
      "target\n"
     ]
    }
   ],
   "source": [
    "for x in list(train.columns):\n",
    "    if x not in list(test.columns):\n",
    "        print(x)"
   ]
  },
  {
   "cell_type": "code",
   "execution_count": 59,
   "metadata": {
    "collapsed": true
   },
   "outputs": [],
   "source": [
    "for x in list(test.columns):\n",
    "    if x not in list(train.columns):\n",
    "        print(x)"
   ]
  },
  {
   "cell_type": "code",
   "execution_count": 60,
   "metadata": {
    "collapsed": true
   },
   "outputs": [],
   "source": [
    "test.to_csv('test_final', encoding = 'utf-8', index=False)"
   ]
  },
  {
   "cell_type": "code",
   "execution_count": 61,
   "metadata": {
    "collapsed": true
   },
   "outputs": [],
   "source": [
    "train.to_csv('train_final', encoding = 'utf-8', index=False)"
   ]
  },
  {
   "cell_type": "markdown",
   "metadata": {},
   "source": [
    "## Create Train Data Set and Evaluation(test) Data Set"
   ]
  },
  {
   "cell_type": "code",
   "execution_count": null,
   "metadata": {
    "collapsed": true
   },
   "outputs": [],
   "source": [
    "test = pd.read_csv('test_final')\n",
    "train = pd.read_csv('train_final')"
   ]
  },
  {
   "cell_type": "code",
   "execution_count": 62,
   "metadata": {},
   "outputs": [
    {
     "name": "stdout",
     "output_type": "stream",
     "text": [
      "101 101\n"
     ]
    }
   ],
   "source": [
    "print(len(train.iloc[:, 1:].columns),\n",
    "len(test.columns))"
   ]
  },
  {
   "cell_type": "code",
   "execution_count": 63,
   "metadata": {
    "collapsed": true
   },
   "outputs": [],
   "source": [
    "from sklearn.preprocessing import MinMaxScaler"
   ]
  },
  {
   "cell_type": "code",
   "execution_count": 65,
   "metadata": {
    "collapsed": true
   },
   "outputs": [],
   "source": [
    "scaler  = MinMaxScaler(copy=True, feature_range=(0, 1))\n",
    "scaler.fit(train.iloc[:, 1:])\n",
    "df_train = scaler.transform(train.iloc[:, 1:])\n",
    "df_test = scaler.transform(test)"
   ]
  },
  {
   "cell_type": "code",
   "execution_count": 66,
   "metadata": {
    "collapsed": true
   },
   "outputs": [],
   "source": [
    "df_train1 = np.insert(df_train, 101, np.array(train.iloc[:,0]), axis=1)"
   ]
  },
  {
   "cell_type": "code",
   "execution_count": 67,
   "metadata": {
    "collapsed": true
   },
   "outputs": [],
   "source": [
    "df_train1_pd = pd.DataFrame(df_train1)\n",
    "df_test1_pd = pd.DataFrame(df_test)"
   ]
  },
  {
   "cell_type": "code",
   "execution_count": 68,
   "metadata": {
    "collapsed": true
   },
   "outputs": [],
   "source": [
    "df_train1_pd.to_csv('XY', index = False, header=False)\n",
    "df_test1_pd.to_csv('XY_test', index = False, header=False)"
   ]
  },
  {
   "cell_type": "code",
   "execution_count": 2,
   "metadata": {
    "collapsed": true
   },
   "outputs": [],
   "source": [
    "XY = pd.read_csv('XY')"
   ]
  },
  {
   "cell_type": "code",
   "execution_count": 3,
   "metadata": {
    "collapsed": true
   },
   "outputs": [],
   "source": [
    "lis = []\n",
    "for y in XY.iloc[:, -1]:\n",
    "    if y == 1:\n",
    "        lis.append(0.0)\n",
    "    else:\n",
    "        lis.append(1.0)\n",
    "        "
   ]
  },
  {
   "cell_type": "code",
   "execution_count": 4,
   "metadata": {
    "collapsed": true
   },
   "outputs": [],
   "source": [
    "lis = pd.DataFrame(lis)\n",
    "XY = pd.merge(XY, lis, left_index = True, right_index = True)"
   ]
  },
  {
   "cell_type": "code",
   "execution_count": 5,
   "metadata": {
    "collapsed": true
   },
   "outputs": [],
   "source": [
    "from sklearn.model_selection import train_test_split\n",
    "X_train, X_test, y_train, y_test = train_test_split(XY, XY.iloc[:, -1], test_size=0.30)"
   ]
  },
  {
   "cell_type": "code",
   "execution_count": 6,
   "metadata": {
    "collapsed": true
   },
   "outputs": [],
   "source": [
    "X_train = pd.DataFrame(X_train)\n",
    "X_test = pd.DataFrame(X_test)"
   ]
  },
  {
   "cell_type": "code",
   "execution_count": 7,
   "metadata": {
    "collapsed": true
   },
   "outputs": [],
   "source": [
    "X_train.to_csv('X_train', index = False, header=False)\n",
    "X_test.to_csv('X_test', index = False, header=False)"
   ]
  }
 ],
 "metadata": {
  "kernelspec": {
   "display_name": "Python 3",
   "language": "python",
   "name": "python3"
  },
  "language_info": {
   "codemirror_mode": {
    "name": "ipython",
    "version": 3
   },
   "file_extension": ".py",
   "mimetype": "text/x-python",
   "name": "python",
   "nbconvert_exporter": "python",
   "pygments_lexer": "ipython3",
   "version": "3.6.3"
  }
 },
 "nbformat": 4,
 "nbformat_minor": 2
}
